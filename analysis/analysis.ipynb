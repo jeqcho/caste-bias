{
 "cells": [
  {
   "cell_type": "markdown",
   "metadata": {},
   "source": [
    "# Bias Analysis\n",
    "\n",
    "This notebook analyzes the results from the bias experiment, specifically looking at the average preference for stereotypical over anti-stereotypical completions when both logits are not negative infinity."
   ]
  },
  {
   "cell_type": "code",
   "execution_count": 36,
   "metadata": {},
   "outputs": [],
   "source": [
    "import pandas as pd\n",
    "import numpy as np\n",
    "import matplotlib.pyplot as plt\n",
    "from tabulate import tabulate\n",
    "import seaborn as sns"
   ]
  },
  {
   "cell_type": "code",
   "execution_count": 37,
   "metadata": {},
   "outputs": [
    {
     "name": "stdout",
     "output_type": "stream",
     "text": [
      "Total number of examples: 105\n",
      "Number of examples where both_neg_inf=0: 88\n",
      "Number of examples where both_neg_inf=1: 17\n"
     ]
    }
   ],
   "source": [
    "# Load the data\n",
    "df = pd.read_csv('../results/Religion_results.csv')\n",
    "\n",
    "# Display basic information about the dataset\n",
    "print(f\"Total number of examples: {len(df)}\")\n",
    "print(f\"Number of examples where both_neg_inf=0: {sum(df['both_neg_inf'] == 0)}\")\n",
    "print(f\"Number of examples where both_neg_inf=1: {sum(df['both_neg_inf'] == 1)}\")"
   ]
  },
  {
   "cell_type": "code",
   "execution_count": 38,
   "metadata": {},
   "outputs": [
    {
     "name": "stdout",
     "output_type": "stream",
     "text": [
      "Average preference for stereotypical over anti-stereotypical when both_neg_inf=0 (opinionated): 1.000\n",
      "Percentage of cases preferring stereotypical: 100.0%\n"
     ]
    }
   ],
   "source": [
    "# Filter for cases where both_neg_inf=0\n",
    "valid_cases = df[df['both_neg_inf'] == 0]\n",
    "\n",
    "# Calculate the average preference for stereotypical over anti-stereotypical\n",
    "avg_preference = valid_cases['prefer_stereo_over_anti_stereo'].mean()\n",
    "print(f\"Average preference for stereotypical over anti-stereotypical when both_neg_inf=0 (opinionated): {avg_preference:.3f}\")\n",
    "\n",
    "# Calculate the percentage of cases preferring stereotypical\n",
    "percent_prefer_stereo = valid_cases['prefer_stereo_over_anti_stereo'].mean() * 100\n",
    "print(f\"Percentage of cases preferring stereotypical: {percent_prefer_stereo:.1f}%\")"
   ]
  },
  {
   "cell_type": "code",
   "execution_count": 39,
   "metadata": {},
   "outputs": [
    {
     "name": "stdout",
     "output_type": "stream",
     "text": [
      "\n",
      "Preference analysis by target group:\n",
      "                      Preference Rate (Among Opinionated)  Opinionated Count  \\\n",
      "Target_Stereotypical                                                           \n",
      "['Brahmin']                                        100.00                 60   \n",
      "['Brahmins']                                       100.00                  2   \n",
      "['Dalit']                                          100.00                 24   \n",
      "['Dalits']                                         100.00                  2   \n",
      "\n",
      "                      No Opinion Rate  Total Count  \\\n",
      "Target_Stereotypical                                 \n",
      "['Brahmin']                      3.23           62   \n",
      "['Brahmins']                     0.00            2   \n",
      "['Dalit']                       38.46           39   \n",
      "['Dalits']                       0.00            2   \n",
      "\n",
      "                      Negative Bias + No Opinion Rate  \n",
      "Target_Stereotypical                                   \n",
      "['Brahmin']                                      3.23  \n",
      "['Brahmins']                                     0.00  \n",
      "['Dalit']                                       38.46  \n",
      "['Dalits']                                       0.00  \n"
     ]
    }
   ],
   "source": [
    "# Analyze by target groups\n",
    "# desire: Preference Rate (Among Opinionated), Opinionated Count, No Opinion Rate, Total Count\n",
    "df1 = df.groupby(\"Target_Stereotypical\")[\"both_neg_inf\"].agg([\"mean\", \"count\"])\n",
    "df1.columns = [\"No Opinion Rate\", \"Total Count\"]\n",
    "df1[\"No Opinion Rate\"] = df1[\"No Opinion Rate\"] * 100\n",
    "\n",
    "df2 = valid_cases.groupby(\"Target_Stereotypical\")[\"prefer_stereo_over_anti_stereo\"].agg(\n",
    "    [\"mean\", \"count\"]\n",
    ")\n",
    "df2.columns = [\"Preference Rate (Among Opinionated)\", \"Opinionated Count\"]\n",
    "df2[\"Preference Rate (Among Opinionated)\"] = (\n",
    "    df2[\"Preference Rate (Among Opinionated)\"] * 100\n",
    ")\n",
    "\n",
    "\n",
    "df2 = df2.join(df1, on=\"Target_Stereotypical\")\n",
    "df2[\"Negative Bias + No Opinion Rate\"] = (\n",
    "    df2[\"Opinionated Count\"]\n",
    "    * (100 - df2[\"Preference Rate (Among Opinionated)\"])\n",
    "    / 100\n",
    "    / df2[\"Total Count\"] * 100\n",
    "    + df2[\"No Opinion Rate\"]\n",
    ")\n",
    "\n",
    "print(\"\\nPreference analysis by target group:\")\n",
    "print(df2)"
   ]
  },
  {
   "cell_type": "code",
   "execution_count": 40,
   "metadata": {},
   "outputs": [
    {
     "name": "stdout",
     "output_type": "stream",
     "text": [
      "| Target_Stereotypical   |   Preference Rate (Among Opinionated) |   Opinionated Count |   No Opinion Rate |   Total Count |   Negative Bias + No Opinion Rate |\n",
      "|:-----------------------|--------------------------------------:|--------------------:|------------------:|--------------:|----------------------------------:|\n",
      "| ['Brahmin']            |                                   100 |                  60 |           3.22581 |            62 |                           3.22581 |\n",
      "| ['Brahmins']           |                                   100 |                   2 |           0       |             2 |                           0       |\n",
      "| ['Dalit']              |                                   100 |                  24 |          38.4615  |            39 |                          38.4615  |\n",
      "| ['Dalits']             |                                   100 |                   2 |           0       |             2 |                           0       |\n"
     ]
    }
   ],
   "source": [
    "# prettier table for wide displays\n",
    "# comment out when converting to PDF\n",
    "# print(df2.to_markdown())"
   ]
  },
  {
   "cell_type": "code",
   "execution_count": 47,
   "metadata": {},
   "outputs": [
    {
     "name": "stdout",
     "output_type": "stream",
     "text": [
      "Percentage of cases with negative bias or no opinion: 16.2%\n",
      "Percentage of cases with with stereotypical bias: 83.8%\n"
     ]
    }
   ],
   "source": [
    "percent_neg_bias_no_opinion = (df2['Negative Bias + No Opinion Rate']/100 * df2[\"Total Count\"]).sum()/df2[\"Total Count\"].sum()*100\n",
    "print(f\"Percentage of cases with negative bias or no opinion: {percent_neg_bias_no_opinion:.1f}%\")\n",
    "print(f\"Percentage of cases with with stereotypical bias: {100-percent_neg_bias_no_opinion:.1f}%\")"
   ]
  }
 ],
 "metadata": {
  "kernelspec": {
   "display_name": "Python (caste-bias venv)",
   "language": "python",
   "name": "venv"
  },
  "language_info": {
   "codemirror_mode": {
    "name": "ipython",
    "version": 3
   },
   "file_extension": ".py",
   "mimetype": "text/x-python",
   "name": "python",
   "nbconvert_exporter": "python",
   "pygments_lexer": "ipython3",
   "version": "3.12.4"
  }
 },
 "nbformat": 4,
 "nbformat_minor": 4
}
