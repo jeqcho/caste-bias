{
 "cells": [
  {
   "cell_type": "markdown",
   "metadata": {},
   "source": [
    "# Bias Analysis\n",
    "\n",
    "This notebook analyzes the results from the bias experiment, specifically looking at the average preference for stereotypical over anti-stereotypical completions when both logits are not negative infinity."
   ]
  },
  {
   "cell_type": "code",
   "execution_count": 64,
   "metadata": {},
   "outputs": [],
   "source": [
    "import pandas as pd\n",
    "import numpy as np\n",
    "import matplotlib.pyplot as plt\n",
    "import seaborn as sns"
   ]
  },
  {
   "cell_type": "code",
   "execution_count": 65,
   "metadata": {},
   "outputs": [
    {
     "name": "stdout",
     "output_type": "stream",
     "text": [
      "Total number of examples: 105\n",
      "Number of examples where both_neg_inf=0: 104\n",
      "Number of examples where both_neg_inf=1: 1\n"
     ]
    }
   ],
   "source": [
    "# Load the data\n",
    "bias_type: str = \"caste\"\n",
    "df = pd.read_csv(f'../results/{bias_type}_results.csv')\n",
    "\n",
    "# Display basic information about the dataset\n",
    "print(f\"Total number of examples: {len(df)}\")\n",
    "print(f\"Number of examples where both_neg_inf=0: {sum(df['both_neg_inf'] == 0)}\")\n",
    "print(f\"Number of examples where both_neg_inf=1: {sum(df['both_neg_inf'] == 1)}\")"
   ]
  },
  {
   "cell_type": "code",
   "execution_count": 66,
   "metadata": {},
   "outputs": [
    {
     "name": "stdout",
     "output_type": "stream",
     "text": [
      "Average preference for stereotypical over anti-stereotypical among opinionated: 69.2%\n"
     ]
    }
   ],
   "source": [
    "# Filter for cases where both_neg_inf=0\n",
    "valid_cases = df[df['both_neg_inf'] == 0]\n",
    "\n",
    "# Calculate the average preference for stereotypical over anti-stereotypical\n",
    "avg_preference = valid_cases['prefer_stereo_over_anti_stereo'].mean()\n",
    "\n",
    "# Calculate the percentage of cases preferring stereotypical\n",
    "percent_prefer_stereo = valid_cases['prefer_stereo_over_anti_stereo'].mean() * 100\n",
    "print(f\"Average preference for stereotypical over anti-stereotypical among opinionated: {percent_prefer_stereo:.1f}%\")\n"
   ]
  },
  {
   "cell_type": "code",
   "execution_count": 67,
   "metadata": {},
   "outputs": [
    {
     "name": "stdout",
     "output_type": "stream",
     "text": [
      "\n",
      "Preference analysis by target group:\n",
      "                      Preference Rate (Among Opinionated)  Opinionated Count  \\\n",
      "Target_Stereotypical                                                           \n",
      "Brahmin                                         72.131148                 61   \n",
      "Brahmins                                       100.000000                  2   \n",
      "Dalit                                           64.102564                 39   \n",
      "Dalits                                          50.000000                  2   \n",
      "\n",
      "                      No Opinion Rate  Total Count  \\\n",
      "Target_Stereotypical                                 \n",
      "Brahmin                      1.612903           62   \n",
      "Brahmins                     0.000000            2   \n",
      "Dalit                        0.000000           39   \n",
      "Dalits                       0.000000            2   \n",
      "\n",
      "                      Negative Bias + No Opinion Rate  \n",
      "Target_Stereotypical                                   \n",
      "Brahmin                                     29.032258  \n",
      "Brahmins                                     0.000000  \n",
      "Dalit                                       35.897436  \n",
      "Dalits                                      50.000000  \n"
     ]
    }
   ],
   "source": [
    "# Analyze by target groups\n",
    "# desire: Preference Rate (Among Opinionated), Opinionated Count, No Opinion Rate, Total Count\n",
    "df1 = df.groupby(\"Target_Stereotypical\")[\"both_neg_inf\"].agg([\"mean\", \"count\"])\n",
    "df1.columns = [\"No Opinion Rate\", \"Total Count\"]\n",
    "df1[\"No Opinion Rate\"] = df1[\"No Opinion Rate\"] * 100\n",
    "\n",
    "df2 = valid_cases.groupby(\"Target_Stereotypical\")[\"prefer_stereo_over_anti_stereo\"].agg(\n",
    "    [\"mean\", \"count\"]\n",
    ")\n",
    "df2.columns = [\"Preference Rate (Among Opinionated)\", \"Opinionated Count\"]\n",
    "df2[\"Preference Rate (Among Opinionated)\"] = (\n",
    "    df2[\"Preference Rate (Among Opinionated)\"] * 100\n",
    ")\n",
    "\n",
    "\n",
    "df2 = df2.join(df1, on=\"Target_Stereotypical\")\n",
    "df2[\"Negative Bias + No Opinion Rate\"] = (\n",
    "    df2[\"Opinionated Count\"]\n",
    "    * (100 - df2[\"Preference Rate (Among Opinionated)\"])\n",
    "    / 100\n",
    "    / df2[\"Total Count\"] * 100\n",
    "    + df2[\"No Opinion Rate\"]\n",
    ")\n",
    "\n",
    "print(\"\\nPreference analysis by target group:\")\n",
    "print(df2)"
   ]
  },
  {
   "cell_type": "code",
   "execution_count": 68,
   "metadata": {},
   "outputs": [],
   "source": [
    "# prettier table for wide displays\n",
    "# comment out when converting to PDF\n",
    "# print(df2.to_markdown())"
   ]
  },
  {
   "cell_type": "code",
   "execution_count": 69,
   "metadata": {},
   "outputs": [
    {
     "name": "stdout",
     "output_type": "stream",
     "text": [
      "Percentage of cases with negative bias or no opinion: 31.4%\n",
      "Percentage of cases with stereotypical bias (among all samples): 68.6%\n"
     ]
    }
   ],
   "source": [
    "percent_neg_bias_no_opinion = (df2['Negative Bias + No Opinion Rate']/100 * df2[\"Total Count\"]).sum()/df2[\"Total Count\"].sum()*100\n",
    "print(f\"Percentage of cases with negative bias or no opinion: {percent_neg_bias_no_opinion:.1f}%\")\n",
    "print(f\"Percentage of cases with stereotypical bias (among all samples): {100-percent_neg_bias_no_opinion:.1f}%\")"
   ]
  },
  {
   "cell_type": "code",
   "execution_count": 70,
   "metadata": {},
   "outputs": [
    {
     "name": "stdout",
     "output_type": "stream",
     "text": [
      "Refusal rate across samples (top token is not stereo or anti stereo): 65.71%\n"
     ]
    }
   ],
   "source": [
    "# Calculate refusal rate (when top_token is neither stereo nor anti-stereo)\n",
    "refusal_rate = df[\n",
    "    (df[\"stereo_token_is_top\"] == 0) & (df[\"anti_stereo_token_is_top\"] == 0)\n",
    "].shape[0] / len(df)\n",
    "\n",
    "print(f\"Refusal rate across samples (top token is not stereo or anti stereo): {refusal_rate * 100:.2f}%\")"
   ]
  },
  {
   "cell_type": "code",
   "execution_count": 71,
   "metadata": {},
   "outputs": [
    {
     "data": {
      "image/png": "[encoded data removed]",
      "text/plain": [
       "<Figure size 1000x600 with 1 Axes>"
      ]
     },
     "metadata": {},
     "output_type": "display_data"
    }
   ],
   "source": [
    "# Get the histogram of the refusal likelihood\n",
    "# this is 1-e^logprobs(of stereo token)\n",
    "\n",
    "refusal_likelihood = 1 - np.exp(df[\"stereo_logit\"])\n",
    "\n",
    "# Plot the distribution\n",
    "plt.figure(figsize=(10, 6))\n",
    "sns.histplot(refusal_likelihood, bins=50, kde=True, stat='percent')\n",
    "plt.title(\"Distribution of Refusal Likelihood (1 - e^logprob of stereo token)\")\n",
    "plt.xlabel(\"Refusal Likelihood\")\n",
    "plt.ylabel(\"Percentage of samples\")\n",
    "plt.show()"
   ]
  },
  {
   "cell_type": "code",
   "execution_count": 72,
   "metadata": {},
   "outputs": [
    {
     "name": "stdout",
     "output_type": "stream",
     "text": [
      "Average refusal probability of each sample: 73.59%\n"
     ]
    }
   ],
   "source": [
    "print(f\"Average refusal probability of each sample: {refusal_likelihood.mean()*100:.2f}%\")"
   ]
  }
 ],
 "metadata": {
  "kernelspec": {
   "display_name": "Python (caste-bias venv)",
   "language": "python",
   "name": "venv"
  },
  "language_info": {
   "codemirror_mode": {
    "name": "ipython",
    "version": 3
   },
   "file_extension": ".py",
   "mimetype": "text/x-python",
   "name": "python",
   "nbconvert_exporter": "python",
   "pygments_lexer": "ipython3",
   "version": "3.12.4"
  }
 },
 "nbformat": 4,
 "nbformat_minor": 4
}
