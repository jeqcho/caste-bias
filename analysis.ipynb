{
 "cells": [
  {
   "cell_type": "markdown",
   "metadata": {},
   "source": [
    "# Caste Bias Analysis\n",
    "\n",
    "This notebook analyzes the results from the caste bias experiment, specifically looking at the average preference for stereotypical over anti-stereotypical completions when both logits are not negative infinity."
   ]
  },
  {
   "cell_type": "code",
   "execution_count": 16,
   "metadata": {},
   "outputs": [],
   "source": [
    "import pandas as pd\n",
    "import numpy as np\n",
    "import matplotlib.pyplot as plt\n",
    "import seaborn as sns"
   ]
  },
  {
   "cell_type": "code",
   "execution_count": 17,
   "metadata": {},
   "outputs": [
    {
     "name": "stdout",
     "output_type": "stream",
     "text": [
      "Total number of examples: 105\n",
      "Number of examples where both_neg_inf=0: 88\n",
      "Number of examples where both_neg_inf=1: 17\n"
     ]
    }
   ],
   "source": [
    "# Load the data\n",
    "df = pd.read_csv('results/Caste_results.csv')\n",
    "\n",
    "# Display basic information about the dataset\n",
    "print(f\"Total number of examples: {len(df)}\")\n",
    "print(f\"Number of examples where both_neg_inf=0: {sum(df['both_neg_inf'] == 0)}\")\n",
    "print(f\"Number of examples where both_neg_inf=1: {sum(df['both_neg_inf'] == 1)}\")"
   ]
  },
  {
   "cell_type": "code",
   "execution_count": 18,
   "metadata": {},
   "outputs": [
    {
     "name": "stdout",
     "output_type": "stream",
     "text": [
      "Average preference for stereotypical over anti-stereotypical when both_neg_inf=0: 1.000\n",
      "Percentage of cases preferring stereotypical: 100.0%\n"
     ]
    }
   ],
   "source": [
    "# Filter for cases where both_neg_inf=0\n",
    "valid_cases = df[df['both_neg_inf'] == 0]\n",
    "\n",
    "# Calculate the average preference for stereotypical over anti-stereotypical\n",
    "avg_preference = valid_cases['prefer_stereo_over_anti_stereo'].mean()\n",
    "print(f\"Average preference for stereotypical over anti-stereotypical when both_neg_inf=0: {avg_preference:.3f}\")\n",
    "\n",
    "# Calculate the percentage of cases preferring stereotypical\n",
    "percent_prefer_stereo = valid_cases['prefer_stereo_over_anti_stereo'].mean() * 100\n",
    "print(f\"Percentage of cases preferring stereotypical: {percent_prefer_stereo:.1f}%\")"
   ]
  },
  {
   "cell_type": "code",
   "execution_count": 19,
   "metadata": {},
   "outputs": [
    {
     "data": {
      "image/png": "[encoded data removed]",
      "text/plain": [
       "<Figure size 800x600 with 1 Axes>"
      ]
     },
     "metadata": {},
     "output_type": "display_data"
    }
   ],
   "source": [
    "# Create a bar plot of the preference distribution\n",
    "plt.figure(figsize=(8, 6))\n",
    "sns.countplot(x='prefer_stereo_over_anti_stereo', data=valid_cases)\n",
    "plt.title('Distribution of Stereotypical vs Anti-stereotypical Preferences\\n(when both_neg_inf=0)')\n",
    "plt.xlabel('Preference (0=Anti-stereotypical, 1=Stereotypical)')\n",
    "plt.ylabel('Count')\n",
    "plt.show()"
   ]
  },
  {
   "cell_type": "code",
   "execution_count": 20,
   "metadata": {},
   "outputs": [
    {
     "name": "stdout",
     "output_type": "stream",
     "text": [
      "\n",
      "Preference analysis by target group:\n",
      "                      Preference Rate  Count\n",
      "Target_Stereotypical                        \n",
      "['Brahmin']                     100.0     60\n",
      "['Brahmins']                    100.0      2\n",
      "['Dalit']                       100.0     24\n",
      "['Dalits']                      100.0      2\n"
     ]
    }
   ],
   "source": [
    "# Analyze by target groups\n",
    "target_analysis = valid_cases.groupby('Target_Stereotypical')['prefer_stereo_over_anti_stereo'].agg(['mean', 'count'])\n",
    "target_analysis.columns = ['Preference Rate', 'Count']\n",
    "target_analysis['Preference Rate'] = target_analysis['Preference Rate'] * 100\n",
    "print(\"\\nPreference analysis by target group:\")\n",
    "print(target_analysis)"
   ]
  },
  {
   "cell_type": "code",
   "execution_count": 21,
   "metadata": {},
   "outputs": [
    {
     "name": "stdout",
     "output_type": "stream",
     "text": [
      "Average preference for stereotypical over anti-stereotypical (negative bias when both_neg_inf=0): 0.838\n"
     ]
    }
   ],
   "source": [
    "# suppose (for the benefit of doubt for GPT, that when both_neg_inf=True, there is actually negative bias)\n",
    "# Filter for cases where both_neg_inf=0\n",
    "df.loc[df['both_neg_inf'] == 1, \"prefer_stereo_over_anti_stereo\"] = 0\n",
    "\n",
    "# Calculate the average preference for stereotypical over anti-stereotypical\n",
    "conservative_avg_preference = df['prefer_stereo_over_anti_stereo'].mean()\n",
    "print(f\"Average preference for stereotypical over anti-stereotypical (negative bias when both_neg_inf=0): {conservative_avg_preference:.3f}\")"
   ]
  },
  {
   "cell_type": "code",
   "execution_count": null,
   "metadata": {},
   "outputs": [],
   "source": []
  }
 ],
 "metadata": {
  "kernelspec": {
   "display_name": "Python (caste-bias venv)",
   "language": "python",
   "name": "venv"
  },
  "language_info": {
   "codemirror_mode": {
    "name": "ipython",
    "version": 3
   },
   "file_extension": ".py",
   "mimetype": "text/x-python",
   "name": "python",
   "nbconvert_exporter": "python",
   "pygments_lexer": "ipython3",
   "version": "3.12.4"
  }
 },
 "nbformat": 4,
 "nbformat_minor": 4
}
